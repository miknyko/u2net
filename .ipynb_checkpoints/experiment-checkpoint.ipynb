version https://git-lfs.github.com/spec/v1
oid sha256:9127b5a7b6370f0c3dcf87b98c69cfb0d78be738a6f3d9a002ded046d1afd5f5
size 4306491
